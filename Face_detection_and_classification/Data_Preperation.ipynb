{
 "cells": [
  {
   "cell_type": "code",
   "execution_count": null,
   "id": "96b427cc",
   "metadata": {},
   "outputs": [],
   "source": [
    "import numpy as np\n",
    "import cv2\n",
    "import os \n",
    "#init camera \n",
    "cap = cv2.VideoCapture(0)\n",
    "# face detection using cascade\n",
    "face_cascade = cv2.CascadeClassifier(\"haarcascade_frontalface_alt.xml\")\n",
    "skip = 0;\n",
    "face_data = []\n",
    "dataset_path = './Data/'\n",
    "labels = []\n",
    "class_id = 0\n",
    "names = {}#mapping bw id and name\n",
    "\n",
    "\n",
    "#Data Preperation \n",
    "for fx in os.listdir(dataset_path):\n",
    "    if fx.endswith('.npy'):\n",
    "        #create a mapping between class id and name\n",
    "        names[class_id] = fx[:-4]\n",
    "        print(\"loaded \" + fx)\n",
    "        data_item  = np.load(dataset_path + fx)\n",
    "        face_data.append(data_item)\n",
    "    \n",
    "        #create labels for class\n",
    "        target = class_id*np.ones((data_item.shape[0], ))\n",
    "        class_id += 1\n",
    "        labels.append(target)\n",
    "face_dataset = np.concatenate(face_data, axis =0)\n",
    "face_labels = np.concatenate(labels, axis = 0).reshape((-1, 1))\n",
    "train_set = np.concatenate((face_dataset, face_labels), axis = 1)\n",
    "print(face_dataset.shape)\n",
    "print(face_labels.shape)\n",
    "print(train_set.shape)\n",
    "#now we are done with the data preperation "
   ]
  }
 ],
 "metadata": {
  "kernelspec": {
   "display_name": "Python 3",
   "language": "python",
   "name": "python3"
  },
  "language_info": {
   "codemirror_mode": {
    "name": "ipython",
    "version": 3
   },
   "file_extension": ".py",
   "mimetype": "text/x-python",
   "name": "python",
   "nbconvert_exporter": "python",
   "pygments_lexer": "ipython3",
   "version": "3.8.8"
  }
 },
 "nbformat": 4,
 "nbformat_minor": 5
}
