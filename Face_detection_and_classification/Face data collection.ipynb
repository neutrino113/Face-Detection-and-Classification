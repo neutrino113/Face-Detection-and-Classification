{
 "cells": [
  {
   "cell_type": "markdown",
   "id": "aab5a1a6",
   "metadata": {},
   "source": [
    "## In this python script we try to collect images from our webcam video stream\n",
    "In the image frame we will extract all the faces detected in it using Harcascade classifier\n",
    "And we will store the faces extracted from the webcam in the data folder as as a numpy array"
   ]
  },
  {
   "cell_type": "code",
   "execution_count": null,
   "id": "4f315386",
   "metadata": {},
   "outputs": [],
   "source": [
    "import cv2\n",
    "import numpy as np\n",
    "\n",
    "#video capture\n",
    "cap = cv2.VideoCapture(0)\n",
    "#cascade Classifier\n",
    "face_cascade = cv2.CascadeClassifier(\"haarcascade_frontalface_alt.xml\")\n",
    "skip =0\n",
    "face_data = []\n",
    "dataset_path = './data/'\n",
    "file_name = input(\"enter the name opf the person : \")\n",
    "while True :\n",
    "    res, frame = cap.read()\n",
    "    if res == False:\n",
    "        continue\n",
    "    gray_frame = cv2.cvtColor(frame, cv2.COLOR_RGB2GRAY)\n",
    "    #detect faces using harcascade\n",
    "    faces = face_cascade.detectMultiScale(frame, 1.3 , 5)\n",
    "    faces = sorted(faces, key = lambda f : f[2]*f[3])\n",
    "    # harcascade classifier returns the coordinates and width and height of the face detected\n",
    "    for face in faces[-1:] :\n",
    "        x,y,w,h = face\n",
    "        cv2.rectangle(frame, (x,y), (x+w, y+h), (0, 0 ,0), 2)\n",
    "        offset = 10\n",
    "        face_section = frame[y-offset: y+h+offset, x-offset: x+h+offset]\n",
    "        face_section = cv2.resize(face_section , (100,100))\n",
    "        \n",
    "        skip += 1\n",
    "        if skip%10 == 0:\n",
    "            face_data.append(face_section)\n",
    "            print(len(face_data))\n",
    "        cv2.imshow(\"face\", face_section)\n",
    "\n",
    "    cv2.imshow(\"face detect , press q to exit\", frame)\n",
    "    #keep running the program untill the user pesses the key 'q'\n",
    "    key_pressed = cv2.waitKey(1) & 0xFF\n",
    "    if key_pressed == ord('q'):\n",
    "        break\n",
    "#now we will convert our face list array into an numpy array\n",
    "face_data = np.asarray(face_data)\n",
    "face_data = face_data.reshape((face_data.shape[0], -1))\n",
    "print(face_data.shape)\n",
    "#save this data in the data file in our directory \n",
    "np.save(dataset_path + file_name + \".npy\", face_data)\n",
    "print(\"data successfully saved at \" + dataset_path + file_name + \".npy\")\n",
    "cap.release()\n",
    "cv2.destroyAllWindows()"
   ]
  }
 ],
 "metadata": {
  "kernelspec": {
   "display_name": "Python 3",
   "language": "python",
   "name": "python3"
  },
  "language_info": {
   "codemirror_mode": {
    "name": "ipython",
    "version": 3
   },
   "file_extension": ".py",
   "mimetype": "text/x-python",
   "name": "python",
   "nbconvert_exporter": "python",
   "pygments_lexer": "ipython3",
   "version": "3.8.8"
  }
 },
 "nbformat": 4,
 "nbformat_minor": 5
}
