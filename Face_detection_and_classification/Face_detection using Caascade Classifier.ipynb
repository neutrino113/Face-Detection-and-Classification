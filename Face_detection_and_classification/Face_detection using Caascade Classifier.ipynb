{
 "cells": [
  {
   "cell_type": "code",
   "execution_count": null,
   "id": "d0ed0494",
   "metadata": {},
   "outputs": [],
   "source": [
    "import cv2\n",
    "cap = cv2.VideoCapture(0)\n",
    "face_cascade = cv2.CascadeClassifier(\"haarcascade_frontalface_alt.xml\")\n",
    "while True :\n",
    "    res, frame = cap.read()\n",
    "    gray_frame = cv2.cvtColor(frame, cv2.COLOR_RGB2GRAY)\n",
    "    if res == False:\n",
    "        continue\n",
    "    faces = face_cascade.detectMultiScale(gray_frame, 1.2, 5)\n",
    "    for x,y,w,h in faces :\n",
    "        cv2.rectangle(frame, (x,y), (x+w, y+h), (0, 0 ,0), 2)\n",
    "    cv2.imshow(\"video, press 'q' to exit\", frame)\n",
    "    #grayFrame = cv2.cvtColor(frame,  cv2.COLOR_BGR2GRAY)\n",
    "    #cv2.imshow(\"video2\", grayFrame)\n",
    "    key_pressed = cv2.waitKey(1) & 0xFF\n",
    "    if key_pressed == ord('q'):\n",
    "        break\n",
    "cap.release()\n",
    "cv2.destroyAllWindows()"
   ]
  }
 ],
 "metadata": {
  "kernelspec": {
   "display_name": "Python 3",
   "language": "python",
   "name": "python3"
  },
  "language_info": {
   "codemirror_mode": {
    "name": "ipython",
    "version": 3
   },
   "file_extension": ".py",
   "mimetype": "text/x-python",
   "name": "python",
   "nbconvert_exporter": "python",
   "pygments_lexer": "ipython3",
   "version": "3.8.8"
  }
 },
 "nbformat": 4,
 "nbformat_minor": 5
}
