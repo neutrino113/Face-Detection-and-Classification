{
 "cells": [
  {
   "cell_type": "markdown",
   "id": "0a54cd8b",
   "metadata": {},
   "source": [
    "# Face classifier\n",
    "### Recognise face using classification algorithm KNN \n",
    "1. Load the traning data from the data folder contaning numpy arrays of all persons\n",
    "2. Read a video stream using openCV\n",
    "3. Extract faces out of it\n",
    "4. use KNN to classify the face\n",
    "5. Map the predicted id to the name of the user\n",
    "6. Display the predictions on the screen"
   ]
  },
  {
   "cell_type": "code",
   "execution_count": null,
   "id": "bb9fcdda",
   "metadata": {},
   "outputs": [],
   "source": [
    "import numpy as np \n",
    "import pandas as pd"
   ]
  },
  {
   "cell_type": "code",
   "execution_count": null,
   "id": "b9c7c9ab",
   "metadata": {},
   "outputs": [],
   "source": [
    "########### KNN CODE ##########\n",
    "def distance(v1, v2):\n",
    "    #eucledian\n",
    "    return np.sqrt(((v1-v2)**2).sum())\n",
    "def KNN(train , test , k = 5):\n",
    "    dist = []\n",
    "    for i in range(train.shape[0]) :\n",
    "        #get the vector and label\n",
    "        ix= train[i, :-1]\n",
    "        iy = train[i , -1]\n",
    "        #compute the distance between test points \n",
    "        d = distance(test , ix)\n",
    "        dist.append([d, iy])\n",
    "    #sort based on distance and get top k\n",
    "    dk = sorted(dist, key = lambda x : x[0])[:k]\n",
    "    #retrive only the labels\n",
    "    labels = np.array(dk)[:, -1]\n",
    "    #get frequencies of each label\n",
    "    output = np.unique(labels, return_counts = True)\n",
    "    #find max frequency and corresponding label\n",
    "    index = np.argmax(output[1])\n",
    "    return output[0][index]\n",
    "    \n",
    "    "
   ]
  },
  {
   "cell_type": "code",
   "execution_count": null,
   "id": "03caaf6e",
   "metadata": {},
   "outputs": [],
   "source": [
    "#testing \n",
    "while True :\n",
    "    ret, frame = cap.read()\n",
    "    if ret == False :\n",
    "        continue\n",
    "    faces = face_cascade.detectMultiScale(frame, 1.3, 5)\n",
    "    for face in faces:\n",
    "        x,y,w,h = face\n",
    "        offset = 10\n",
    "        face_section = frame[y-offset: y+offset+h, x-offset:x+offset+w]\n",
    "        face_section = cv2.resize(face_section, (100,100))\n",
    "        \n",
    "        #prediction label (out)\n",
    "        out = KNN(train_set, face_section.flatten())\n",
    "        \n",
    "        #displaying the rectangle around tha face and name on it\n",
    "        predicted_name = names[int(out)]\n",
    "        cv2.putText(frame, predicted_name, (x, y-10), cv2.FONT_HERSHEY_SIMPLEX, 1, (0,255,255), 2, cv2.LINE_AA)\n",
    "        cv2.rectangle(frame, (x,y), (x+w, y+h), (0,0,0), 2)\n",
    "    cv2.imshow(\"frames\", frame)\n",
    "    \n",
    "    key_pressed = cv2.waitKey(1) & 0xFF\n",
    "    if key_pressed == ord('q') :\n",
    "        break\n",
    "cap.release()\n",
    "cv2.destroyAllWindows()\n",
    "    "
   ]
  }
 ],
 "metadata": {
  "kernelspec": {
   "display_name": "Python 3",
   "language": "python",
   "name": "python3"
  },
  "language_info": {
   "codemirror_mode": {
    "name": "ipython",
    "version": 3
   },
   "file_extension": ".py",
   "mimetype": "text/x-python",
   "name": "python",
   "nbconvert_exporter": "python",
   "pygments_lexer": "ipython3",
   "version": "3.8.8"
  }
 },
 "nbformat": 4,
 "nbformat_minor": 5
}
